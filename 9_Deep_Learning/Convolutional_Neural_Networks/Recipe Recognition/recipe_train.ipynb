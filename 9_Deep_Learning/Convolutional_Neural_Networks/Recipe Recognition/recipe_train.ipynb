{
 "cells": [
  {
   "cell_type": "code",
   "execution_count": 1,
   "metadata": {},
   "outputs": [],
   "source": [
    "from tensorflow.keras.models import Sequential,Model\n",
    "from tensorflow.keras.layers import Dense,Convolution2D,MaxPooling2D,Flatten,Dropout\n",
    "from tensorflow.keras.preprocessing.image import ImageDataGenerator\n",
    "import numpy as np\n",
    "from tensorflow.keras.applications.vgg16 import VGG16"
   ]
  },
  {
   "cell_type": "code",
   "execution_count": 2,
   "metadata": {},
   "outputs": [],
   "source": [
    "train_datagen=ImageDataGenerator(rescale=1./255,shear_range=0.2,zoom_range=0.2,horizontal_flip=True,vertical_flip=True)"
   ]
  },
  {
   "cell_type": "code",
   "execution_count": 3,
   "metadata": {},
   "outputs": [],
   "source": [
    "test_datagen=ImageDataGenerator(rescale=1./255)"
   ]
  },
  {
   "cell_type": "code",
   "execution_count": 4,
   "metadata": {},
   "outputs": [
    {
     "name": "stdout",
     "output_type": "stream",
     "text": [
      "Found 2418 images belonging to 3 classes.\n"
     ]
    }
   ],
   "source": [
    "x_train=train_datagen.flow_from_directory(directory=r'E:\\VIT\\dataset\\training_set'\n",
    "                                          ,target_size=(224,224),batch_size=32,class_mode='categorical')"
   ]
  },
  {
   "cell_type": "code",
   "execution_count": 5,
   "metadata": {},
   "outputs": [
    {
     "name": "stdout",
     "output_type": "stream",
     "text": [
      "Found 600 images belonging to 3 classes.\n"
     ]
    }
   ],
   "source": [
    "x_test=test_datagen.flow_from_directory(directory=r'E:\\VIT\\dataset\\test_set'\n",
    "                                        ,target_size=(224,224),batch_size=32,class_mode='categorical')"
   ]
  },
  {
   "cell_type": "code",
   "execution_count": 6,
   "metadata": {},
   "outputs": [
    {
     "name": "stdout",
     "output_type": "stream",
     "text": [
      "{'french_fries': 0, 'pizza': 1, 'samosa': 2}\n"
     ]
    }
   ],
   "source": [
    "print(x_train.class_indices)"
   ]
  },
  {
   "cell_type": "code",
   "execution_count": 7,
   "metadata": {},
   "outputs": [
    {
     "data": {
      "text/plain": [
       "Counter({0: 804, 1: 804, 2: 810})"
      ]
     },
     "execution_count": 7,
     "metadata": {},
     "output_type": "execute_result"
    }
   ],
   "source": [
    "from collections import Counter as c\n",
    "c(x_train.labels)"
   ]
  },
  {
   "cell_type": "code",
   "execution_count": 8,
   "metadata": {},
   "outputs": [],
   "source": [
    "model=Sequential()"
   ]
  },
  {
   "cell_type": "code",
   "execution_count": 9,
   "metadata": {},
   "outputs": [],
   "source": [
    "\n",
    "from tensorflow.keras.applications.vgg16 import VGG16"
   ]
  },
  {
   "cell_type": "code",
   "execution_count": 16,
   "metadata": {},
   "outputs": [],
   "source": [
    "base_model =  VGG16(input_shape = (224, 224, 3), \n",
    "include_top = False, \n",
    "weights = 'imagenet')"
   ]
  },
  {
   "cell_type": "code",
   "execution_count": 17,
   "metadata": {},
   "outputs": [],
   "source": [
    "for layer in base_model.layers:\n",
    "    layer.trainable = False"
   ]
  },
  {
   "cell_type": "code",
   "execution_count": 18,
   "metadata": {},
   "outputs": [],
   "source": [
    "x = Flatten()(base_model.output)"
   ]
  },
  {
   "cell_type": "code",
   "execution_count": 19,
   "metadata": {},
   "outputs": [],
   "source": [
    "x = Dense(1024, activation='relu')(x)\n",
    "x = Dropout(0.5)(x)\n",
    "\n",
    "x = Dense(3, activation='softmax')(x)\n",
    "\n",
    "model = Model(base_model.input, x)\n",
    "\n",
    "model.compile(optimizer = \"adam\", loss = 'categorical_crossentropy',metrics = [\"accuracy\"])\n"
   ]
  },
  {
   "cell_type": "code",
   "execution_count": 20,
   "metadata": {},
   "outputs": [
    {
     "name": "stdout",
     "output_type": "stream",
     "text": [
      "76 19\n"
     ]
    }
   ],
   "source": [
    "a=round(2418/32)\n",
    "b=round(600/32)\n",
    "print(a,b)"
   ]
  },
  {
   "cell_type": "code",
   "execution_count": 21,
   "metadata": {},
   "outputs": [
    {
     "name": "stdout",
     "output_type": "stream",
     "text": [
      "Model: \"model_1\"\n",
      "_________________________________________________________________\n",
      "Layer (type)                 Output Shape              Param #   \n",
      "=================================================================\n",
      "input_2 (InputLayer)         [(None, 224, 224, 3)]     0         \n",
      "_________________________________________________________________\n",
      "block1_conv1 (Conv2D)        (None, 224, 224, 64)      1792      \n",
      "_________________________________________________________________\n",
      "block1_conv2 (Conv2D)        (None, 224, 224, 64)      36928     \n",
      "_________________________________________________________________\n",
      "block1_pool (MaxPooling2D)   (None, 112, 112, 64)      0         \n",
      "_________________________________________________________________\n",
      "block2_conv1 (Conv2D)        (None, 112, 112, 128)     73856     \n",
      "_________________________________________________________________\n",
      "block2_conv2 (Conv2D)        (None, 112, 112, 128)     147584    \n",
      "_________________________________________________________________\n",
      "block2_pool (MaxPooling2D)   (None, 56, 56, 128)       0         \n",
      "_________________________________________________________________\n",
      "block3_conv1 (Conv2D)        (None, 56, 56, 256)       295168    \n",
      "_________________________________________________________________\n",
      "block3_conv2 (Conv2D)        (None, 56, 56, 256)       590080    \n",
      "_________________________________________________________________\n",
      "block3_conv3 (Conv2D)        (None, 56, 56, 256)       590080    \n",
      "_________________________________________________________________\n",
      "block3_pool (MaxPooling2D)   (None, 28, 28, 256)       0         \n",
      "_________________________________________________________________\n",
      "block4_conv1 (Conv2D)        (None, 28, 28, 512)       1180160   \n",
      "_________________________________________________________________\n",
      "block4_conv2 (Conv2D)        (None, 28, 28, 512)       2359808   \n",
      "_________________________________________________________________\n",
      "block4_conv3 (Conv2D)        (None, 28, 28, 512)       2359808   \n",
      "_________________________________________________________________\n",
      "block4_pool (MaxPooling2D)   (None, 14, 14, 512)       0         \n",
      "_________________________________________________________________\n",
      "block5_conv1 (Conv2D)        (None, 14, 14, 512)       2359808   \n",
      "_________________________________________________________________\n",
      "block5_conv2 (Conv2D)        (None, 14, 14, 512)       2359808   \n",
      "_________________________________________________________________\n",
      "block5_conv3 (Conv2D)        (None, 14, 14, 512)       2359808   \n",
      "_________________________________________________________________\n",
      "block5_pool (MaxPooling2D)   (None, 7, 7, 512)         0         \n",
      "_________________________________________________________________\n",
      "flatten_1 (Flatten)          (None, 25088)             0         \n",
      "_________________________________________________________________\n",
      "dense_3 (Dense)              (None, 1024)              25691136  \n",
      "_________________________________________________________________\n",
      "dropout_2 (Dropout)          (None, 1024)              0         \n",
      "_________________________________________________________________\n",
      "dense_4 (Dense)              (None, 3)                 3075      \n",
      "=================================================================\n",
      "Total params: 40,408,899\n",
      "Trainable params: 25,694,211\n",
      "Non-trainable params: 14,714,688\n",
      "_________________________________________________________________\n"
     ]
    }
   ],
   "source": [
    "model.summary()"
   ]
  },
  {
   "cell_type": "code",
   "execution_count": 22,
   "metadata": {},
   "outputs": [
    {
     "name": "stdout",
     "output_type": "stream",
     "text": [
      "Epoch 1/100\n",
      "76/76 [==============================] - 362s 5s/step - loss: 2.0310 - accuracy: 0.6977 - val_loss: 0.3295 - val_accuracy: 0.8750\n",
      "Epoch 2/100\n",
      "76/76 [==============================] - 359s 5s/step - loss: 0.4178 - accuracy: 0.8437 - val_loss: 0.3803 - val_accuracy: 0.8467\n",
      "Epoch 3/100\n",
      "76/76 [==============================] - 361s 5s/step - loss: 0.3674 - accuracy: 0.8639 - val_loss: 0.3926 - val_accuracy: 0.8517\n",
      "Epoch 4/100\n",
      "76/76 [==============================] - 361s 5s/step - loss: 0.3474 - accuracy: 0.8772 - val_loss: 0.2762 - val_accuracy: 0.8950\n",
      "Epoch 5/100\n",
      "76/76 [==============================] - 360s 5s/step - loss: 0.2987 - accuracy: 0.8821 - val_loss: 0.4118 - val_accuracy: 0.8567\n",
      "Epoch 6/100\n",
      "76/76 [==============================] - 362s 5s/step - loss: 0.3064 - accuracy: 0.8834 - val_loss: 0.2595 - val_accuracy: 0.9117\n",
      "Epoch 7/100\n",
      "76/76 [==============================] - 365s 5s/step - loss: 0.2872 - accuracy: 0.8900 - val_loss: 0.2768 - val_accuracy: 0.9117\n",
      "Epoch 8/100\n",
      "76/76 [==============================] - 366s 5s/step - loss: 0.2916 - accuracy: 0.8929 - val_loss: 0.2612 - val_accuracy: 0.9067\n",
      "Epoch 9/100\n",
      "76/76 [==============================] - 367s 5s/step - loss: 0.2865 - accuracy: 0.8916 - val_loss: 0.2588 - val_accuracy: 0.9117\n",
      "Epoch 10/100\n",
      "76/76 [==============================] - 360s 5s/step - loss: 0.2545 - accuracy: 0.9090 - val_loss: 0.2768 - val_accuracy: 0.9050\n",
      "Epoch 11/100\n",
      "76/76 [==============================] - 363s 5s/step - loss: 0.2455 - accuracy: 0.9123 - val_loss: 0.2731 - val_accuracy: 0.9183\n",
      "Epoch 12/100\n",
      "76/76 [==============================] - 355s 5s/step - loss: 0.2613 - accuracy: 0.9045 - val_loss: 0.2257 - val_accuracy: 0.9217\n",
      "Epoch 13/100\n",
      "76/76 [==============================] - 357s 5s/step - loss: 0.2408 - accuracy: 0.9086 - val_loss: 0.2348 - val_accuracy: 0.9200\n",
      "Epoch 14/100\n",
      "76/76 [==============================] - 371s 5s/step - loss: 0.2332 - accuracy: 0.9123 - val_loss: 0.3264 - val_accuracy: 0.8900\n",
      "Epoch 15/100\n",
      "76/76 [==============================] - 359s 5s/step - loss: 0.2326 - accuracy: 0.9136 - val_loss: 0.2187 - val_accuracy: 0.9283\n",
      "Epoch 16/100\n",
      "76/76 [==============================] - 363s 5s/step - loss: 0.2425 - accuracy: 0.9094 - val_loss: 0.2409 - val_accuracy: 0.9233\n",
      "Epoch 17/100\n",
      "76/76 [==============================] - 367s 5s/step - loss: 0.2074 - accuracy: 0.9264 - val_loss: 0.2407 - val_accuracy: 0.9267\n",
      "Epoch 18/100\n",
      "76/76 [==============================] - 368s 5s/step - loss: 0.2311 - accuracy: 0.9123 - val_loss: 0.2005 - val_accuracy: 0.9317\n",
      "Epoch 19/100\n",
      "76/76 [==============================] - 374s 5s/step - loss: 0.2283 - accuracy: 0.9069 - val_loss: 0.2133 - val_accuracy: 0.9333\n",
      "Epoch 20/100\n",
      "76/76 [==============================] - 382s 5s/step - loss: 0.2161 - accuracy: 0.9198 - val_loss: 0.2259 - val_accuracy: 0.9317\n",
      "Epoch 21/100\n",
      "76/76 [==============================] - 383s 5s/step - loss: 0.2211 - accuracy: 0.9181 - val_loss: 0.2658 - val_accuracy: 0.9100\n",
      "Epoch 22/100\n",
      "76/76 [==============================] - 384s 5s/step - loss: 0.2290 - accuracy: 0.9152 - val_loss: 0.2087 - val_accuracy: 0.9450\n",
      "Epoch 23/100\n",
      "76/76 [==============================] - 386s 5s/step - loss: 0.2126 - accuracy: 0.9194 - val_loss: 0.2450 - val_accuracy: 0.9233\n",
      "Epoch 24/100\n",
      "76/76 [==============================] - 375s 5s/step - loss: 0.1967 - accuracy: 0.9268 - val_loss: 0.2733 - val_accuracy: 0.9067\n",
      "Epoch 25/100\n",
      "76/76 [==============================] - 379s 5s/step - loss: 0.2170 - accuracy: 0.9148 - val_loss: 0.2488 - val_accuracy: 0.9183\n",
      "Epoch 26/100\n",
      "76/76 [==============================] - 391s 5s/step - loss: 0.1831 - accuracy: 0.9355 - val_loss: 0.3384 - val_accuracy: 0.8950\n",
      "Epoch 27/100\n",
      "76/76 [==============================] - 378s 5s/step - loss: 0.1708 - accuracy: 0.9338 - val_loss: 0.2167 - val_accuracy: 0.9367\n",
      "Epoch 28/100\n",
      "76/76 [==============================] - 375s 5s/step - loss: 0.1713 - accuracy: 0.9417 - val_loss: 0.2234 - val_accuracy: 0.9433\n",
      "Epoch 29/100\n",
      "76/76 [==============================] - 374s 5s/step - loss: 0.2124 - accuracy: 0.9231 - val_loss: 0.2093 - val_accuracy: 0.9367\n",
      "Epoch 30/100\n",
      "76/76 [==============================] - 376s 5s/step - loss: 0.2196 - accuracy: 0.9189 - val_loss: 0.2670 - val_accuracy: 0.9133\n",
      "Epoch 31/100\n",
      "76/76 [==============================] - 375s 5s/step - loss: 0.1886 - accuracy: 0.9276 - val_loss: 0.2086 - val_accuracy: 0.9383\n",
      "Epoch 32/100\n",
      "76/76 [==============================] - 376s 5s/step - loss: 0.1754 - accuracy: 0.9318 - val_loss: 0.2208 - val_accuracy: 0.9317\n",
      "Epoch 33/100\n",
      "76/76 [==============================] - 383s 5s/step - loss: 0.1843 - accuracy: 0.9347 - val_loss: 0.2390 - val_accuracy: 0.9283\n",
      "Epoch 34/100\n",
      "76/76 [==============================] - 371s 5s/step - loss: 0.1829 - accuracy: 0.9264 - val_loss: 0.2506 - val_accuracy: 0.9267\n",
      "Epoch 35/100\n",
      "76/76 [==============================] - 375s 5s/step - loss: 0.1759 - accuracy: 0.9371 - val_loss: 0.2521 - val_accuracy: 0.9300\n",
      "Epoch 36/100\n",
      "76/76 [==============================] - 366s 5s/step - loss: 0.1986 - accuracy: 0.9276 - val_loss: 0.2990 - val_accuracy: 0.9167\n",
      "Epoch 37/100\n",
      "76/76 [==============================] - 371s 5s/step - loss: 0.1680 - accuracy: 0.9384 - val_loss: 0.2116 - val_accuracy: 0.9317\n",
      "Epoch 38/100\n",
      "76/76 [==============================] - 371s 5s/step - loss: 0.1656 - accuracy: 0.9376 - val_loss: 0.3625 - val_accuracy: 0.9050\n",
      "Epoch 39/100\n",
      "76/76 [==============================] - 372s 5s/step - loss: 0.1710 - accuracy: 0.9301 - val_loss: 0.2940 - val_accuracy: 0.9233\n",
      "Epoch 40/100\n",
      "76/76 [==============================] - 372s 5s/step - loss: 0.1788 - accuracy: 0.9322 - val_loss: 0.3442 - val_accuracy: 0.8983\n",
      "Epoch 41/100\n",
      "76/76 [==============================] - 373s 5s/step - loss: 0.1692 - accuracy: 0.9322 - val_loss: 0.2804 - val_accuracy: 0.9367\n",
      "Epoch 42/100\n",
      "76/76 [==============================] - 375s 5s/step - loss: 0.1512 - accuracy: 0.9438 - val_loss: 0.2959 - val_accuracy: 0.9267\n",
      "Epoch 43/100\n",
      "76/76 [==============================] - 373s 5s/step - loss: 0.1640 - accuracy: 0.9384 - val_loss: 0.3300 - val_accuracy: 0.9100\n",
      "Epoch 44/100\n",
      "76/76 [==============================] - 382s 5s/step - loss: 0.1516 - accuracy: 0.9433 - val_loss: 0.2784 - val_accuracy: 0.9383\n",
      "Epoch 45/100\n",
      "76/76 [==============================] - 383s 5s/step - loss: 0.1427 - accuracy: 0.9495 - val_loss: 0.2893 - val_accuracy: 0.9383\n",
      "Epoch 46/100\n",
      "76/76 [==============================] - 381s 5s/step - loss: 0.1407 - accuracy: 0.9458 - val_loss: 0.2685 - val_accuracy: 0.9283\n",
      "Epoch 47/100\n",
      "76/76 [==============================] - 394s 5s/step - loss: 0.1498 - accuracy: 0.9487 - val_loss: 0.3353 - val_accuracy: 0.9167\n",
      "Epoch 48/100\n",
      "76/76 [==============================] - 365s 5s/step - loss: 0.1527 - accuracy: 0.9446 - val_loss: 0.2184 - val_accuracy: 0.9417\n",
      "Epoch 49/100\n",
      "76/76 [==============================] - 363s 5s/step - loss: 0.1604 - accuracy: 0.9425 - val_loss: 0.4283 - val_accuracy: 0.9067\n",
      "Epoch 50/100\n",
      "76/76 [==============================] - 365s 5s/step - loss: 0.1466 - accuracy: 0.9471 - val_loss: 0.2827 - val_accuracy: 0.9200\n",
      "Epoch 51/100\n",
      "76/76 [==============================] - 364s 5s/step - loss: 0.1462 - accuracy: 0.9471 - val_loss: 0.4174 - val_accuracy: 0.9067\n",
      "Epoch 52/100\n",
      "76/76 [==============================] - 364s 5s/step - loss: 0.1468 - accuracy: 0.9462 - val_loss: 0.2475 - val_accuracy: 0.9383\n",
      "Epoch 53/100\n",
      "76/76 [==============================] - 368s 5s/step - loss: 0.1414 - accuracy: 0.9438 - val_loss: 0.2709 - val_accuracy: 0.9367\n",
      "Epoch 54/100\n",
      "76/76 [==============================] - 370s 5s/step - loss: 0.1425 - accuracy: 0.9479 - val_loss: 0.3188 - val_accuracy: 0.9267\n",
      "Epoch 55/100\n",
      "76/76 [==============================] - 376s 5s/step - loss: 0.1368 - accuracy: 0.9524 - val_loss: 0.2550 - val_accuracy: 0.9350\n",
      "Epoch 56/100\n",
      "76/76 [==============================] - 374s 5s/step - loss: 0.1608 - accuracy: 0.9384 - val_loss: 0.2250 - val_accuracy: 0.9450\n",
      "Epoch 57/100\n",
      "76/76 [==============================] - 370s 5s/step - loss: 0.1487 - accuracy: 0.9425 - val_loss: 0.2503 - val_accuracy: 0.9400\n",
      "Epoch 58/100\n",
      "76/76 [==============================] - 367s 5s/step - loss: 0.1471 - accuracy: 0.9471 - val_loss: 0.2652 - val_accuracy: 0.9300\n",
      "Epoch 59/100\n",
      "76/76 [==============================] - 368s 5s/step - loss: 0.1369 - accuracy: 0.9471 - val_loss: 0.3155 - val_accuracy: 0.9283\n",
      "Epoch 60/100\n",
      "76/76 [==============================] - 346s 5s/step - loss: 0.1396 - accuracy: 0.9475 - val_loss: 0.2752 - val_accuracy: 0.9283\n",
      "Epoch 61/100\n",
      "76/76 [==============================] - 347s 5s/step - loss: 0.1389 - accuracy: 0.9417 - val_loss: 0.2491 - val_accuracy: 0.9350\n",
      "Epoch 62/100\n",
      "76/76 [==============================] - 346s 5s/step - loss: 0.1391 - accuracy: 0.9508 - val_loss: 0.2699 - val_accuracy: 0.9383\n",
      "Epoch 63/100\n",
      "76/76 [==============================] - 346s 5s/step - loss: 0.1390 - accuracy: 0.9483 - val_loss: 0.3218 - val_accuracy: 0.9250\n",
      "Epoch 64/100\n",
      "76/76 [==============================] - 346s 5s/step - loss: 0.1152 - accuracy: 0.9582 - val_loss: 0.2404 - val_accuracy: 0.9450\n",
      "Epoch 65/100\n",
      "76/76 [==============================] - 349s 5s/step - loss: 0.1353 - accuracy: 0.9446 - val_loss: 0.2706 - val_accuracy: 0.9417\n",
      "Epoch 66/100\n",
      "76/76 [==============================] - 348s 5s/step - loss: 0.1260 - accuracy: 0.9508 - val_loss: 0.3321 - val_accuracy: 0.9217\n",
      "Epoch 67/100\n",
      "76/76 [==============================] - 347s 5s/step - loss: 0.1253 - accuracy: 0.9516 - val_loss: 0.3105 - val_accuracy: 0.9267\n",
      "Epoch 68/100\n",
      "76/76 [==============================] - 348s 5s/step - loss: 0.1255 - accuracy: 0.9541 - val_loss: 0.3133 - val_accuracy: 0.9350\n",
      "Epoch 69/100\n",
      "76/76 [==============================] - 354s 5s/step - loss: 0.1024 - accuracy: 0.9595 - val_loss: 0.3158 - val_accuracy: 0.9250\n",
      "Epoch 70/100\n",
      "76/76 [==============================] - 348s 5s/step - loss: 0.1090 - accuracy: 0.9578 - val_loss: 0.3309 - val_accuracy: 0.9217\n",
      "Epoch 71/100\n",
      "76/76 [==============================] - 341s 4s/step - loss: 0.1012 - accuracy: 0.9603 - val_loss: 0.3423 - val_accuracy: 0.9283\n",
      "Epoch 72/100\n",
      "76/76 [==============================] - 340s 4s/step - loss: 0.1193 - accuracy: 0.9537 - val_loss: 0.2141 - val_accuracy: 0.9483\n",
      "Epoch 73/100\n",
      "76/76 [==============================] - 342s 5s/step - loss: 0.1172 - accuracy: 0.9603 - val_loss: 0.3556 - val_accuracy: 0.9217\n",
      "Epoch 74/100\n",
      "76/76 [==============================] - 342s 5s/step - loss: 0.1362 - accuracy: 0.9500 - val_loss: 0.2917 - val_accuracy: 0.9400\n",
      "Epoch 75/100\n",
      "76/76 [==============================] - 348s 5s/step - loss: 0.1316 - accuracy: 0.9487 - val_loss: 0.2676 - val_accuracy: 0.9467\n",
      "Epoch 76/100\n",
      "76/76 [==============================] - 362s 5s/step - loss: 0.1090 - accuracy: 0.9603 - val_loss: 0.2583 - val_accuracy: 0.9450\n",
      "Epoch 77/100\n",
      "76/76 [==============================] - 337s 4s/step - loss: 0.1094 - accuracy: 0.9537 - val_loss: 0.3234 - val_accuracy: 0.9367\n",
      "Epoch 78/100\n",
      "76/76 [==============================] - 335s 4s/step - loss: 0.1124 - accuracy: 0.9628 - val_loss: 0.3000 - val_accuracy: 0.9367\n",
      "Epoch 79/100\n",
      "76/76 [==============================] - 335s 4s/step - loss: 0.0983 - accuracy: 0.9665 - val_loss: 0.2510 - val_accuracy: 0.9450\n",
      "Epoch 80/100\n",
      "76/76 [==============================] - 336s 4s/step - loss: 0.1074 - accuracy: 0.9615 - val_loss: 0.2449 - val_accuracy: 0.9350\n",
      "Epoch 81/100\n",
      "76/76 [==============================] - 364s 5s/step - loss: 0.1418 - accuracy: 0.9433 - val_loss: 0.2559 - val_accuracy: 0.9400\n",
      "Epoch 82/100\n",
      "76/76 [==============================] - 347s 5s/step - loss: 0.1318 - accuracy: 0.9504 - val_loss: 0.2418 - val_accuracy: 0.9367\n",
      "Epoch 83/100\n",
      "76/76 [==============================] - 338s 4s/step - loss: 0.1170 - accuracy: 0.9611 - val_loss: 0.2552 - val_accuracy: 0.9367\n",
      "Epoch 84/100\n",
      "76/76 [==============================] - 335s 4s/step - loss: 0.1059 - accuracy: 0.9545 - val_loss: 0.3395 - val_accuracy: 0.9300\n",
      "Epoch 85/100\n",
      "76/76 [==============================] - 336s 4s/step - loss: 0.1341 - accuracy: 0.9504 - val_loss: 0.3027 - val_accuracy: 0.9367\n",
      "Epoch 86/100\n",
      "76/76 [==============================] - 337s 4s/step - loss: 0.1156 - accuracy: 0.9620 - val_loss: 0.2369 - val_accuracy: 0.9517\n",
      "Epoch 87/100\n",
      "76/76 [==============================] - 341s 4s/step - loss: 0.1187 - accuracy: 0.9541 - val_loss: 0.2866 - val_accuracy: 0.9283\n",
      "Epoch 88/100\n",
      "76/76 [==============================] - 332s 4s/step - loss: 0.1221 - accuracy: 0.9520 - val_loss: 0.2661 - val_accuracy: 0.9417\n",
      "Epoch 89/100\n",
      "76/76 [==============================] - 333s 4s/step - loss: 0.1047 - accuracy: 0.9562 - val_loss: 0.3043 - val_accuracy: 0.9333\n",
      "Epoch 90/100\n",
      "76/76 [==============================] - 338s 4s/step - loss: 0.1116 - accuracy: 0.9566 - val_loss: 0.2808 - val_accuracy: 0.9383\n",
      "Epoch 91/100\n",
      "76/76 [==============================] - 337s 4s/step - loss: 0.1187 - accuracy: 0.9520 - val_loss: 0.2986 - val_accuracy: 0.9333\n",
      "Epoch 92/100\n",
      "76/76 [==============================] - 364s 5s/step - loss: 0.1091 - accuracy: 0.9566 - val_loss: 0.2488 - val_accuracy: 0.9417\n",
      "Epoch 93/100\n",
      "76/76 [==============================] - 356s 5s/step - loss: 0.1088 - accuracy: 0.9603 - val_loss: 0.2844 - val_accuracy: 0.9400\n",
      "Epoch 94/100\n",
      "76/76 [==============================] - 360s 5s/step - loss: 0.1122 - accuracy: 0.9615 - val_loss: 0.2803 - val_accuracy: 0.9333\n",
      "Epoch 95/100\n",
      "76/76 [==============================] - 342s 5s/step - loss: 0.1192 - accuracy: 0.9557 - val_loss: 0.2359 - val_accuracy: 0.9417\n",
      "Epoch 96/100\n",
      "76/76 [==============================] - 355s 5s/step - loss: 0.0983 - accuracy: 0.9673 - val_loss: 0.3422 - val_accuracy: 0.9267\n",
      "Epoch 97/100\n",
      "76/76 [==============================] - 354s 5s/step - loss: 0.1233 - accuracy: 0.9487 - val_loss: 0.3343 - val_accuracy: 0.9217\n",
      "Epoch 98/100\n",
      "76/76 [==============================] - 348s 5s/step - loss: 0.0987 - accuracy: 0.9591 - val_loss: 0.4865 - val_accuracy: 0.9050\n",
      "Epoch 99/100\n",
      "76/76 [==============================] - 350s 5s/step - loss: 0.0924 - accuracy: 0.9620 - val_loss: 0.2967 - val_accuracy: 0.9400\n",
      "Epoch 100/100\n",
      "76/76 [==============================] - 351s 5s/step - loss: 0.0802 - accuracy: 0.9711 - val_loss: 0.3437 - val_accuracy: 0.9317\n"
     ]
    }
   ],
   "source": [
    "history=model.fit(x_train,steps_per_epoch = a , epochs = 100 , validation_data = x_test,validation_steps = b)\n"
   ]
  },
  {
   "cell_type": "code",
   "execution_count": 23,
   "metadata": {},
   "outputs": [],
   "source": [
    "np.save('history_best_2.npy',history.history)"
   ]
  },
  {
   "cell_type": "code",
   "execution_count": 24,
   "metadata": {},
   "outputs": [],
   "source": [
    "model.save(\"recipe_best_2.h5\")"
   ]
  },
  {
   "cell_type": "code",
   "execution_count": 25,
   "metadata": {},
   "outputs": [
    {
     "data": {
      "text/plain": [
       "<matplotlib.legend.Legend at 0x1daafaced60>"
      ]
     },
     "execution_count": 25,
     "metadata": {},
     "output_type": "execute_result"
    },
    {
     "data": {
      "image/png": "[encoded data removed]",
      "text/plain": [
       "<Figure size 432x288 with 1 Axes>"
      ]
     },
     "metadata": {
      "needs_background": "light"
     },
     "output_type": "display_data"
    }
   ],
   "source": [
    "import matplotlib.pyplot as plt\n",
    "plt.plot(history.history['accuracy'],label=\"train_accuracy\")\n",
    "plt.plot(history.history['val_accuracy'],label=\"test_accuracy\")\n",
    "plt.legend()"
   ]
  },
  {
   "cell_type": "code",
   "execution_count": 27,
   "metadata": {},
   "outputs": [
    {
     "name": "stdout",
     "output_type": "stream",
     "text": [
      "76/76 [==============================] - 272s 4s/step - loss: 0.0359 - accuracy: 0.9859\n"
     ]
    }
   ],
   "source": [
    "train_loss,train_acc=model.evaluate(x_train)"
   ]
  },
  {
   "cell_type": "code",
   "execution_count": 28,
   "metadata": {},
   "outputs": [
    {
     "name": "stdout",
     "output_type": "stream",
     "text": [
      "19/19 [==============================] - 62s 3s/step - loss: 0.3437 - accuracy: 0.9317\n"
     ]
    }
   ],
   "source": [
    "test_loss,test_acc=model.evaluate(x_test)"
   ]
  },
  {
   "cell_type": "code",
   "execution_count": null,
   "metadata": {},
   "outputs": [],
   "source": []
  }
 ],
 "metadata": {
  "kernelspec": {
   "display_name": "Python 3",
   "language": "python",
   "name": "python3"
  },
  "language_info": {
   "codemirror_mode": {
    "name": "ipython",
    "version": 3
   },
   "file_extension": ".py",
   "mimetype": "text/x-python",
   "name": "python",
   "nbconvert_exporter": "python",
   "pygments_lexer": "ipython3",
   "version": "3.8.3"
  }
 },
 "nbformat": 4,
 "nbformat_minor": 5
}
